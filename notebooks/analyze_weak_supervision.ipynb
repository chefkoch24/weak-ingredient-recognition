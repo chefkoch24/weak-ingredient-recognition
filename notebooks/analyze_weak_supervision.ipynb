{
 "cells": [
  {
   "cell_type": "code",
   "execution_count": 20,
   "metadata": {
    "pycharm": {
     "name": "#%%\n"
    }
   },
   "outputs": [],
   "source": [
    "import skweak\n",
    "import pandas as pd\n",
    "import json\n",
    "import os\n",
    "import sys\n",
    "import numpy as np\n",
    "import matplotlib.pyplot as plt\n",
    "from collections import Counter\n",
    "# Get the parent directory of the current directory\n",
    "parent_dir = os.path.abspath(os.path.join(os.getcwd(), '..'))\n",
    "\n",
    "# Add the parent directory to the Python path\n",
    "sys.path.append(parent_dir)\n",
    "from config import Config\n"
   ]
  },
  {
   "cell_type": "code",
   "execution_count": 21,
   "metadata": {
    "pycharm": {
     "name": "#%%\n"
    }
   },
   "outputs": [],
   "source": [
    "config = Config()\n",
    "data_path = '../' + config.data_path"
   ]
  },
  {
   "cell_type": "code",
   "execution_count": 22,
   "metadata": {
    "pycharm": {
     "name": "#%%\n"
    }
   },
   "outputs": [],
   "source": [
    "docs = skweak.utils.docbin_reader(data_path + 'train_corpus.spacy', spacy_model_name='de_core_news_md')"
   ]
  },
  {
   "cell_type": "code",
   "execution_count": 24,
   "metadata": {
    "pycharm": {
     "name": "#%%\n"
    }
   },
   "outputs": [],
   "source": [
    "data = pd.read_json(data_path + 'train.json')"
   ]
  },
  {
   "cell_type": "code",
   "execution_count": 30,
   "metadata": {},
   "outputs": [
    {
     "data": {
      "text/plain": [
       "'100 g Mehl, 100 g Grieß (Hartweizengrieß), 100 ml Wasser, kaltes, 400 g Kürbisfleisch, (vornehmlich Hokkaido), 1 EL Butter, 1 kleine Zwiebel(n), Salz und Pfeffer, 60 g Parmesan, frisch gerieben, 1 Eigelb, Muskat, 50 g Butter, 8 Blätter Salbei Mehl, Grieß und Wasser zu einem geschmeidigen Teig verarbeiten und mit Klarsichtfolie eingewickelt 1 Stunde im Kühlschrank ruhen lassen. In der Zwischenzeit Kürbis putzen und in Würfel schneiden. Butter zerlassen und die gewürfelte Zwiebel darin glasig braten. Kürbiswürfel dazugeben, salzen und pfeffern und ganz weich kochen. Aber ohne Deckel - das Kürbiswasser muss verdunsten können.Der Kürbis ist perfekt, wenn eine festere Püreemasse im Topf ist. Das dauert ca. 20 Min. Danach den Parmesan und das Eigelb unterheben. Mit einem Hauch Muskatnuss abschmecken.Nudelteig ausrollen und die Ravioli füllen. In Salzwasser ca. 2-4 Min. garen. Abtropfen lassen und warm halten. Butter in einer kleinen Pfanne erhitzen und die Salbeiblätter bei milder Hitze darin braten. Mit etwas Salz und Pfeffer sowie ein bis zwei Tropfen Zitronensaft abschmecken. Über die Ravioli geben und mit einigen Parmesanspänen servieren.'"
      ]
     },
     "execution_count": 30,
     "metadata": {},
     "output_type": "execute_result"
    }
   ],
   "source": [
    "data['Input'].iloc[6]"
   ]
  },
  {
   "cell_type": "code",
   "execution_count": null,
   "metadata": {
    "pycharm": {
     "name": "#%%\n"
    }
   },
   "outputs": [],
   "source": [
    "sample_size = 10\n",
    "i = 0\n",
    "for doc in docs:\n",
    "    print(i)\n",
    "    if i < sample_size:\n",
    "        skweak.utils.display_entities(doc, 'hmm')\n",
    "    i+=1"
   ]
  },
  {
   "cell_type": "code",
   "execution_count": null,
   "metadata": {
    "pycharm": {
     "name": "#%%\n"
    }
   },
   "outputs": [],
   "source": [
    "ingredient_map = json.load(open(data_path + 'ingredient_map.json'))"
   ]
  },
  {
   "cell_type": "code",
   "execution_count": null,
   "metadata": {
    "pycharm": {
     "name": "#%%\n"
    }
   },
   "outputs": [],
   "source": [
    "print(len(ingredient_map))"
   ]
  },
  {
   "cell_type": "code",
   "execution_count": null,
   "metadata": {
    "pycharm": {
     "name": "#%%\n"
    }
   },
   "outputs": [],
   "source": [
    "ingredient_map"
   ]
  },
  {
   "cell_type": "code",
   "execution_count": null,
   "metadata": {
    "pycharm": {
     "name": "#%%\n"
    }
   },
   "outputs": [],
   "source": [
    "[(t.lemma_, t.text) for t in doc]"
   ]
  },
  {
   "cell_type": "code",
   "execution_count": null,
   "metadata": {
    "pycharm": {
     "name": "#%%\n"
    }
   },
   "outputs": [],
   "source": [
    "ing_processed = [len(d) for d in data['Ingredient_processed']]"
   ]
  },
  {
   "cell_type": "code",
   "execution_count": null,
   "metadata": {
    "pycharm": {
     "name": "#%%\n"
    }
   },
   "outputs": [],
   "source": [
    "ingredients = [len(d) for d in data['Ingredients']]"
   ]
  },
  {
   "cell_type": "code",
   "execution_count": null,
   "metadata": {
    "pycharm": {
     "name": "#%%\n"
    }
   },
   "outputs": [],
   "source": [
    "np.average(ing_processed)"
   ]
  },
  {
   "cell_type": "code",
   "execution_count": null,
   "metadata": {
    "pycharm": {
     "name": "#%%\n"
    }
   },
   "outputs": [],
   "source": [
    "np.average(ingredients)"
   ]
  },
  {
   "cell_type": "code",
   "execution_count": null,
   "metadata": {
    "pycharm": {
     "name": "#%%\n"
    }
   },
   "outputs": [],
   "source": [
    "plt.hist(ing_processed, bins=list(range(0,50)))"
   ]
  },
  {
   "cell_type": "code",
   "execution_count": null,
   "metadata": {
    "pycharm": {
     "name": "#%%\n"
    }
   },
   "outputs": [],
   "source": [
    "plt.hist(ingredients, bins=list(range(0,50)))"
   ]
  },
  {
   "cell_type": "code",
   "execution_count": null,
   "metadata": {
    "pycharm": {
     "name": "#%%\n"
    }
   },
   "outputs": [],
   "source": [
    "ingredients = [item for sublist in data['Ingredient_processed'] for item in sublist]\n",
    "counter = Counter(ingredients)"
   ]
  },
  {
   "cell_type": "code",
   "execution_count": null,
   "metadata": {
    "pycharm": {
     "name": "#%%\n"
    }
   },
   "outputs": [],
   "source": [
    "counter.most_common()"
   ]
  },
  {
   "cell_type": "code",
   "execution_count": null,
   "metadata": {},
   "outputs": [],
   "source": [
    "ingredients = [item for sublist in data['Ingredient_processed'] for item in sublist]\n",
    "counter = Counter(ingredients)"
   ]
  },
  {
   "cell_type": "code",
   "execution_count": null,
   "metadata": {},
   "outputs": [],
   "source": [
    "counter.most_common()"
   ]
  },
  {
   "cell_type": "code",
   "execution_count": null,
   "metadata": {},
   "outputs": [],
   "source": []
  }
 ],
 "metadata": {
  "kernelspec": {
   "display_name": "Python 3 (ipykernel)",
   "language": "python",
   "name": "python3"
  },
  "language_info": {
   "codemirror_mode": {
    "name": "ipython",
    "version": 3
   },
   "file_extension": ".py",
   "mimetype": "text/x-python",
   "name": "python",
   "nbconvert_exporter": "python",
   "pygments_lexer": "ipython3",
   "version": "3.9.17"
  }
 },
 "nbformat": 4,
 "nbformat_minor": 1
}
